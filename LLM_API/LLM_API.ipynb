{
 "cells": [
  {
   "cell_type": "markdown",
   "metadata": {},
   "source": [
    "# Introduction to LLM API Usage\n",
    "\n",
    "This notebook demonstrates how to use OpenAI's API to interact with Large Language Models (LLMs), specifically GPT-4o models. It provides a structured approach for building chat applications with both text and image processing capabilities.\n",
    "\n"
   ]
  },
  {
   "cell_type": "markdown",
   "metadata": {},
   "source": [
    "Load the Openai api key, which is set in .env"
   ]
  },
  {
   "cell_type": "code",
   "execution_count": 1,
   "metadata": {},
   "outputs": [],
   "source": [
    "import os\n",
    "from dotenv import load_dotenv"
   ]
  },
  {
   "cell_type": "code",
   "execution_count": 3,
   "metadata": {},
   "outputs": [],
   "source": [
    "# Load environment variables from .env file\n",
    "load_dotenv()\n",
    "\n",
    "# Get the OpenAI API key\n",
    "openai_api_key = os.getenv('OPENAI_API_KEY')"
   ]
  },
  {
   "cell_type": "markdown",
   "metadata": {},
   "source": [
    "Try single-round chat with gpt-4o"
   ]
  },
  {
   "cell_type": "code",
   "execution_count": 4,
   "metadata": {},
   "outputs": [],
   "source": [
    "from openai import OpenAI\n",
    "client = OpenAI(api_key=openai_api_key)"
   ]
  },
  {
   "cell_type": "code",
   "execution_count": 5,
   "metadata": {},
   "outputs": [
    {
     "name": "stdout",
     "output_type": "stream",
     "text": [
      "3 + 4 equals 7.\n"
     ]
    }
   ],
   "source": [
    "completion = client.chat.completions.create( model=\"gpt-4o\",\n",
    "messages=[\n",
    "{\"role\": \"system\", \"content\": \"You are a helpfull assistant。\"}, {\"role\": \"user\", \"content\": \"what is 3 + 4?\"}\n",
    "] )\n",
    "print(completion.choices[0].message.content)"
   ]
  },
  {
   "cell_type": "markdown",
   "metadata": {},
   "source": [
    "multi-turn chatbot"
   ]
  },
  {
   "cell_type": "code",
   "execution_count": 21,
   "metadata": {},
   "outputs": [],
   "source": [
    "import re\n",
    "from IPython.display import display, Code, Markdown\n",
    "\n",
    "def extract_url_and_text(input_text):\n",
    "    \"\"\"\n",
    "    Extract URL and descriptive text from user input.\n",
    "\n",
    "    Parameters:\n",
    "    input_text (str): User input text, which may contain a URL and descriptive text.\n",
    "\n",
    "    Returns:\n",
    "    tuple: Contains descriptive text and extracted URL, if no URL is found, returns (input_text, None)\n",
    "    \"\"\"\n",
    "\n",
    "    # Use regular expression to detect URL\n",
    "    url_pattern = re.compile(r'https?://[^\\s]+')\n",
    "    url_match = url_pattern.search(input_text)\n",
    "\n",
    "    if url_match:\n",
    "        # Extract URL and remove it from the original text\n",
    "        url = url_match.group(0)\n",
    "        description = input_text.replace(url, '').strip()  # Remove URL and clean up spaces\n",
    "        return description, url\n",
    "    else:\n",
    "        return input_text, None"
   ]
  },
  {
   "cell_type": "code",
   "execution_count": 22,
   "metadata": {},
   "outputs": [],
   "source": [
    "def create_message(role, content):\n",
    "    \"\"\"\n",
    "    Create a message with a specified role and content.\n",
    "\n",
    "    Parameters:\n",
    "    role (str): Role of the message sender (e.g., \"user\", \"assistant\").\n",
    "    content (str): Message content.\n",
    "\n",
    "    Returns:\n",
    "    dict: Message with role and content.\n",
    "    \"\"\"\n",
    "    return {\"role\": role, \"content\": content}"
   ]
  },
  {
   "cell_type": "code",
   "execution_count": 23,
   "metadata": {},
   "outputs": [],
   "source": [
    "def create_user_message_with_image(text, url):\n",
    "    \"\"\"\n",
    "    Create a user message containing an image URL.\n",
    "\n",
    "    Parameters:\n",
    "    text (str): User message text.\n",
    "    url (str): Image URL.\n",
    "\n",
    "    Returns:\n",
    "    dict: User message containing text and image URL.\n",
    "    \"\"\"\n",
    "    return {\n",
    "        \"role\": \"user\",\n",
    "        \"content\": [\n",
    "            {\"type\": \"text\", \"text\": text},\n",
    "            {\"type\": \"image_url\", \"image_url\": {\"url\": url}}\n",
    "        ]\n",
    "    }"
   ]
  },
  {
   "cell_type": "code",
   "execution_count": 24,
   "metadata": {},
   "outputs": [],
   "source": [
    "import os\n",
    "import base64\n",
    "\n",
    "def encode_image_to_base64(image_path):\n",
    "    \"\"\"\n",
    "    Encode a local image to a base64 string.\n",
    "\n",
    "    Parameters:\n",
    "    image_path (str): Local image path.\n",
    "\n",
    "    Returns:\n",
    "    str: Base64 encoded string.\n",
    "    \"\"\"\n",
    "    with open(image_path, \"rb\") as image_file:\n",
    "        return base64.b64encode(image_file.read()).decode('utf-8')\n",
    "\n",
    "\n",
    "def create_user_message_with_local_image(text, image_path):\n",
    "    \"\"\"\n",
    "    Create a user message containing a local image.\n",
    "\n",
    "    Parameters:\n",
    "    text (str): User message text.\n",
    "    image_path (str): Local image path.\n",
    "\n",
    "    Returns:\n",
    "    dict: User message containing text and image.\n",
    "    \"\"\"\n",
    "    base64_image = encode_image_to_base64(image_path)\n",
    "    return {\n",
    "        \"role\": \"user\",\n",
    "        \"content\": [\n",
    "            {\"type\": \"text\", \"text\": text},\n",
    "            {\n",
    "                \"type\": \"image_url\",\n",
    "                \"image_url\": {\n",
    "                    \"url\": f\"data:image/png;base64,{base64_image}\"\n",
    "                }\n",
    "            }\n",
    "        ]\n",
    "    }\n",
    "\n"
   ]
  },
  {
   "cell_type": "code",
   "execution_count": 25,
   "metadata": {},
   "outputs": [],
   "source": [
    "def process_user_input(input_text):\n",
    "    \"\"\"\n",
    "    Determine whether the user input contains a URL or local PNG image, and generate the corresponding message format.\n",
    "\n",
    "    Parameters:\n",
    "    input_text (str): The user's input text.\n",
    "\n",
    "    Returns:\n",
    "    dict: The generated user message containing text or image URL.\n",
    "    \"\"\"\n",
    "    \n",
    "    description, url = extract_url_and_text(input_text)\n",
    "    \n",
    "    # Check if it's a local PNG file\n",
    "    is_local_png = False\n",
    "    local_png_path = \"\"\n",
    "    \n",
    "    # If no URL found, check for text ending with .png, which might be a local file path\n",
    "    if not url and \".png\" in input_text.lower():\n",
    "        # Try to extract potential PNG file paths\n",
    "        potential_paths = [word.strip() for word in input_text.split() \n",
    "                          if word.strip().lower().endswith('.png')]\n",
    "        \n",
    "        for path in potential_paths:\n",
    "            if os.path.isfile(path):\n",
    "                is_local_png = True\n",
    "                local_png_path = path\n",
    "                # Remove file path from input text, use the rest as description\n",
    "                description = input_text.replace(path, \"\").strip()\n",
    "                break\n",
    "\n",
    "    if is_local_png:\n",
    "        # If it's a local PNG file, generate a message with the local image\n",
    "        if not description:\n",
    "            description = \"Please analyze the content of this image.\"  # Use default prompt if no description provided\n",
    "        return create_user_message_with_local_image(description, local_png_path)\n",
    "    elif url:\n",
    "        # If a URL is detected, generate a message with the image link\n",
    "        if not description:\n",
    "            description = \"Please analyze the content of this image.\"  # Use default prompt if no description provided\n",
    "        return create_user_message_with_image(description, url)\n",
    "    else:\n",
    "        # Otherwise generate a normal text message\n",
    "        return create_message(\"user\", description)"
   ]
  },
  {
   "cell_type": "code",
   "execution_count": 26,
   "metadata": {},
   "outputs": [],
   "source": [
    "def chat_with_gpt4o(client, messages):\n",
    "    \"\"\"\n",
    "    Core function for multi-round conversation using the GPT-4o model.\n",
    "\n",
    "    Parameters:\n",
    "    client (OpenAI): An instantiated OpenAI client.\n",
    "    messages (list): A list of messages containing conversation context, including user, assistant, and system messages.\n",
    "\n",
    "    Returns:\n",
    "    str: The reply content generated by the GPT-4o model.\n",
    "    \"\"\"\n",
    "\n",
    "    response = client.chat.completions.create(\n",
    "        model=\"gpt-4o-mini\",  # Using the GPT-4o-mini model\n",
    "        messages=messages\n",
    "    )\n",
    "\n",
    "    # Extract and return the reply content generated by the assistant\n",
    "    return response.choices[0].message.content"
   ]
  },
  {
   "cell_type": "code",
   "execution_count": 27,
   "metadata": {},
   "outputs": [
    {
     "data": {
      "text/markdown": [
       "Assistant: The image depicts a serene landscape featuring a lake surrounded by mountains. In the foreground, there are several rocks and two small trees growing on a larger rock formation in the water. The sky is dramatic with dark clouds and lightning, suggesting an impending storm. Reflections of the rocks and trees can be seen in the calm water of the lake, and there are hints of light from structures in the background amidst the lush greenery."
      ],
      "text/plain": [
       "<IPython.core.display.Markdown object>"
      ]
     },
     "metadata": {},
     "output_type": "display_data"
    },
    {
     "data": {
      "text/markdown": [
       "Assistant: The coloring in the image features a mix of muted and natural tones. The sky displays dark shades of gray and hints of gold or orange from the setting sun or storm light. The mountains are depicted in deep greens and grays, while the water has a reflective quality, showcasing shades of green and gray. The rocks appear in various natural stone colors, such as gray and brown, complementing the overall earthy palette. The overall effect conveys a moody and dramatic atmosphere."
      ],
      "text/plain": [
       "<IPython.core.display.Markdown object>"
      ]
     },
     "metadata": {},
     "output_type": "display_data"
    },
    {
     "data": {
      "text/markdown": [
       "Assistant: The mood of the image is dramatic and somewhat tense due to the presence of dark, stormy clouds and lightning. The serene lake and natural elements provide a contrast to the impending storm, creating a sense of anticipation or foreboding. Overall, the combination of these elements evokes a feeling of awe and wonder, as well as a hint of tranquility amidst the turbulent atmosphere."
      ],
      "text/plain": [
       "<IPython.core.display.Markdown object>"
      ]
     },
     "metadata": {},
     "output_type": "display_data"
    },
    {
     "data": {
      "text/markdown": [
       "Assistant: If you have any more questions or need assistance in the future, feel free to ask. Have a great day!"
      ],
      "text/plain": [
       "<IPython.core.display.Markdown object>"
      ]
     },
     "metadata": {},
     "output_type": "display_data"
    },
    {
     "name": "stdout",
     "output_type": "stream",
     "text": [
      "Conversation ended.\n"
     ]
    }
   ],
   "source": [
    "def multi_round_chat():\n",
    "    \"\"\"\n",
    "    Multi-round chatbot example function that demonstrates how to capture user input\n",
    "    and process it based on whether it contains a URL.\n",
    "    \"\"\"\n",
    "\n",
    "    # Initialize the message list, including system message\n",
    "    messages = []\n",
    "\n",
    "    # Create system message, setting the context for the conversation\n",
    "    system_message = create_message(\"system\", \"You are a helpful assistant.\")\n",
    "    messages.append(system_message)\n",
    "\n",
    "    while True:\n",
    "        # Capture user input\n",
    "        user_input = input(\"User: \")\n",
    "\n",
    "        # Process user input and generate the corresponding message\n",
    "        user_message = process_user_input(user_input)\n",
    "        messages.append(user_message)\n",
    "\n",
    "        # Call the GPT-4o model for a response\n",
    "        assistant_reply = chat_with_gpt4o(client, messages)\n",
    "        display(Markdown(f\"Assistant: {assistant_reply}\"))\n",
    "\n",
    "        # Add the assistant's reply to the message list\n",
    "        messages.append(create_message(\"assistant\", assistant_reply))\n",
    "\n",
    "        # Provide an exit mechanism, user can type 'exit' to end the conversation\n",
    "        if user_input.lower() == 'exit':\n",
    "            print(\"Conversation ended.\")\n",
    "            break\n",
    "\n",
    "\n",
    "if __name__ == \"__main__\":\n",
    "    # Run the multi-round conversation example\n",
    "    multi_round_chat()"
   ]
  },
  {
   "cell_type": "code",
   "execution_count": null,
   "metadata": {},
   "outputs": [],
   "source": []
  }
 ],
 "metadata": {
  "kernelspec": {
   "display_name": "llm_encyclopedia",
   "language": "python",
   "name": "python3"
  },
  "language_info": {
   "codemirror_mode": {
    "name": "ipython",
    "version": 3
   },
   "file_extension": ".py",
   "mimetype": "text/x-python",
   "name": "python",
   "nbconvert_exporter": "python",
   "pygments_lexer": "ipython3",
   "version": "3.12.9"
  }
 },
 "nbformat": 4,
 "nbformat_minor": 2
}
